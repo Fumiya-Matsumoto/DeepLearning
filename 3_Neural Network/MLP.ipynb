{
 "cells": [
  {
   "cell_type": "markdown",
   "metadata": {},
   "source": [
    "# 多重パーセプトロン"
   ]
  },
  {
   "cell_type": "markdown",
   "metadata": {},
   "source": [
    "## 実装の設計\n",
    "「入力層-隠れ層」、「隠れ層-出力層」の部分は同じ構造となっているので、クラスとして定義できそう。"
   ]
  },
  {
   "cell_type": "markdown",
   "metadata": {},
   "source": [
    "## Layerクラスの実装\n",
    "Layerクラスが担うのは層間の結合のため以下の4つを実装する必要がある。\n",
    "\n",
    "1. \\_\\_init\\_\\_ : parametaの初期化\n",
    "2. forward : 順伝播\n",
    "3. backward : 逆伝播\n",
    "4. compute_gradients : モデル学習時の各勾配\n",
    "\n",
    "1.に関しては「重み、バイアス、活性化関数、活性化関数の微分」の4つを用意する必要がある。この際、活性化関数は変数として設定できるようにしておくのが良い。\n",
    "\n",
    "2.で層への入力と活性化前の値はそれぞれ勾配計算および誤差逆伝播で用いるために設定している。\n",
    "\n",
    "3.の逆伝播は2.で定義した活性化前の値を用いて記述する。逆伝播における誤差は活性化関数の微分の変数に活性化前の値を入れるためこのような式となる。\n",
    "\n",
    "4.は勾配計算である。勾配計算には隠れ層の誤差も必要となるため、引数にその誤差が含まれている。"
   ]
  },
  {
   "cell_type": "code",
   "execution_count": 7,
   "metadata": {},
   "outputs": [],
   "source": [
    "class Layer():\n",
    "    #1. __init__ : parametaの初期化\n",
    "    def __init__(self, input_dim, output_dim, activation, dactivation):\n",
    "        '''\n",
    "        インスタンス変数:\n",
    "        W : 重み\n",
    "        b : バイアス\n",
    "        activation : 活性化関数\n",
    "        dactivation : 活性化関数の微分\n",
    "        '''\n",
    "        self.W = np.random.normal(size=(input_dim, output_dim))\n",
    "        self.b = np.zeros(output_dim)\n",
    "        self.activation = activation\n",
    "        self.dactivation = dactivation\n",
    "\n",
    "    def __call__(self,x):\n",
    "        return self.forward(x)\n",
    "\n",
    "    #2. forward : 順伝播\n",
    "    def forward(self,x):\n",
    "        self._input = x\n",
    "        self._pre_activation = np.matmul(x, self.W) + self.b\n",
    "        return self.activation(self._pre_activation)\n",
    "    #3. backward : 逆伝播\n",
    "    def backward(self, delta, W):\n",
    "        delta = self.dactivation(self._pre_activation) \\\n",
    "                * np.matmul(delta, W.T)\n",
    "        return delta\n",
    "    #4. compute_gradients : モデル学習時の各勾配\n",
    "    def compute_gradients(self, delta):\n",
    "        dW = np.matmul(self._input.T, delta)\n",
    "        db = np.matmul(np.ones(self._input.shape[0]), delta)\n",
    "        return dW, db"
   ]
  },
  {
   "cell_type": "markdown",
   "metadata": {},
   "source": [
    "## 多層パーセプトロン"
   ]
  },
  {
   "cell_type": "code",
   "execution_count": 11,
   "metadata": {},
   "outputs": [],
   "source": [
    "import numpy as np\n",
    "class MLP(object):\n",
    "    def __init__(self, input_dim, hidden_dim, output_dim):\n",
    "        '''\n",
    "        引数:\n",
    "            input_dim:入力層の次元\n",
    "            hidden_dim:隠れ層の次元\n",
    "            output_dim:出力層の次元\n",
    "        '''\n",
    "        self.l1 = Layer(input_dim=input_dim,\n",
    "                        output_dim=hidden_dim,\n",
    "                        activation=sigmoid,\n",
    "                        dactivation=dsigmoid)\n",
    "        self.l2 = Layer(input_dim=hidden_dim,\n",
    "                        output_dim=output_dim,\n",
    "                        activation=sigmoid,\n",
    "                        dactivation=dsigmoid)\n",
    "        self.layers  = [self.l1, self.l2]\n",
    "    def __call__(self,x):\n",
    "        return self.forward(x)\n",
    "    def forward(self,x):\n",
    "        h = self.l1(x)\n",
    "        y = self.l2(h)\n",
    "        return y\n",
    "\n",
    "def sigmoid(x):\n",
    "    return 1/(1+np.exp(-x))\n",
    "\n",
    "def dsigmoid(x):\n",
    "    return sigmoid(x)*(1-sigmoid(x))"
   ]
  },
  {
   "cell_type": "markdown",
   "metadata": {},
   "source": [
    "### 1. データの準備\n",
    "モデルを一般形、すなわち多クラスに対応できるように実装したので、出力tを二次元配列で定義する必要がある\n",
    "### 2. モデルの構築\n",
    "### 3. モデルの学習\n",
    "### 4. モデルの評価"
   ]
  },
  {
   "cell_type": "code",
   "execution_count": 16,
   "metadata": {
    "tags": []
   },
   "outputs": [
    {
     "output_type": "stream",
     "name": "stdout",
     "text": "epoch:1, loss:3.441\nepoch:1001, loss:0.817\nepoch:2001, loss:0.101\nepoch:3001, loss:0.050\nepoch:4001, loss:0.033\nepoch:5001, loss:0.025\nepoch:6001, loss:0.020\nepoch:7001, loss:0.016\nepoch:8001, loss:0.014\nepoch:9001, loss:0.012\nepoch:10000, loss:0.011\n[0 0] => 0.002\n[0 1] => 0.997\n[1 0] => 0.997\n[1 1] => 0.003\n"
    }
   ],
   "source": [
    "'''\n",
    "1. データの準備\n",
    "'''\n",
    "x = np.array([[0,0], [0,1], [1,0], [1,1]])\n",
    "t = np.array([[0],[1],[1],[0]])\n",
    "#t = np.array([0,1,1,0])ではないことに注意\n",
    "'''\n",
    "2. モデルの構築\n",
    "'''\n",
    "model = MLP(2,2,1)\n",
    "'''\n",
    "3. モデルの学習\n",
    "'''\n",
    "def compute_loss(t, y):#誤差関数(2クラス版の交差エントロピー誤差)\n",
    "    return (-t*np.log(y) - (1-t)*np.log(1-y)).sum()\n",
    "def train_step(x, t):#勾配降下法の」計算。誤差逆伝播は「層を遡る」処理。これを[::-1]で記述。\n",
    "    y = model(x)\n",
    "    for i, layer in enumerate(model.layers[::-1]):\n",
    "        if i == 0:\n",
    "            delta = y -t\n",
    "        else:\n",
    "            delta = layer.backward(delta,W)\n",
    "        dW, db = layer.compute_gradients(delta)\n",
    "        layer.W = layer.W - 0.1*dW\n",
    "        layer.b = layer.b - 0.1*db\n",
    "\n",
    "        W = layer.W\n",
    "    loss = compute_loss(t,y)\n",
    "    return loss\n",
    "\n",
    "epochs = 10000\n",
    "for epoch in range(epochs):\n",
    "    train_loss = train_step(x,t)\n",
    "\n",
    "    if epoch%1000 ==0 or epoch == epochs -1 :\n",
    "        print('epoch:{}, loss:{:.3f}'.format(epoch+1, train_loss))\n",
    "\n",
    "'''\n",
    "4. モデルの評価\n",
    "'''\n",
    "for input in x:\n",
    "    print('{} => {:.3f}'.format(input, model(input)[0]))"
   ]
  },
  {
   "cell_type": "code",
   "execution_count": null,
   "metadata": {},
   "outputs": [],
   "source": []
  }
 ],
 "metadata": {
  "kernelspec": {
   "display_name": "Python 3",
   "language": "python",
   "name": "python3"
  },
  "language_info": {
   "codemirror_mode": {
    "name": "ipython",
    "version": 3
   },
   "file_extension": ".py",
   "mimetype": "text/x-python",
   "name": "python",
   "nbconvert_exporter": "python",
   "pygments_lexer": "ipython3",
   "version": "3.6.10"
  }
 },
 "nbformat": 4,
 "nbformat_minor": 4
}